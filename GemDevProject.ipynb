{
 "cells": [
  {
   "cell_type": "markdown",
   "id": "61b329eb",
   "metadata": {},
   "source": [
    "## Проект\n",
    "Представьте, что вы работаете в компании, которая разрабатывает мобильные игры. К вам пришел менеджер с рядом задач по исследованию нескольких аспектов мобильного приложения:\n",
    "\n",
    "1. В первую очередь, его интересует показатель retention. Напишите функцию для его подсчета.\n",
    "2. Помимо этого, в компании провели A/B тестирование наборов акционных предложений. На основе имеющихся данных определите, какой набор можно считать лучшим и на основе каких метрик стоит принять правильное решение.\n",
    "3. Предложите метрики для оценки результатов последнего прошедшего тематического события в игре.\n",
    " "
   ]
  },
  {
   "cell_type": "code",
   "execution_count": 1,
   "id": "c6256080",
   "metadata": {},
   "outputs": [],
   "source": [
    "import pandas as pd\n",
    "import numpy as np\n",
    "import datetime\n",
    "import matplotlib.pyplot as plt\n",
    "%matplotlib inline\n",
    "import seaborn as sns\n",
    "import plotly.express as px\n",
    "import scipy\n",
    "from scipy import stats"
   ]
  },
  {
   "cell_type": "code",
   "execution_count": null,
   "id": "e8504c13",
   "metadata": {},
   "outputs": [],
   "source": []
  },
  {
   "cell_type": "markdown",
   "id": "375d6f75",
   "metadata": {},
   "source": [
    "### Задание 1\n",
    "Retention – один из самых важных показателей в компании. Ваша задача – написать функцию, которая будет считать retention игроков (по дням от даты регистрации игрока)."
   ]
  },
  {
   "cell_type": "code",
   "execution_count": 3,
   "id": "82e84639",
   "metadata": {},
   "outputs": [],
   "source": [
    "df_reg = pd.read_csv('C:/Users/Vladimir/Dropbox/Проект/problem1-reg_data.csv', sep = ';')"
   ]
  },
  {
   "cell_type": "code",
   "execution_count": 4,
   "id": "0124c4c6",
   "metadata": {},
   "outputs": [],
   "source": [
    "df_auth = pd.read_csv('C:/Users/Vladimir/Dropbox/Проект/problem1-auth_data.csv', sep = ';')"
   ]
  },
  {
   "cell_type": "code",
   "execution_count": 7,
   "id": "3b81d174",
   "metadata": {},
   "outputs": [
    {
     "data": {
      "text/html": [
       "<div>\n",
       "<style scoped>\n",
       "    .dataframe tbody tr th:only-of-type {\n",
       "        vertical-align: middle;\n",
       "    }\n",
       "\n",
       "    .dataframe tbody tr th {\n",
       "        vertical-align: top;\n",
       "    }\n",
       "\n",
       "    .dataframe thead th {\n",
       "        text-align: right;\n",
       "    }\n",
       "</style>\n",
       "<table border=\"1\" class=\"dataframe\">\n",
       "  <thead>\n",
       "    <tr style=\"text-align: right;\">\n",
       "      <th></th>\n",
       "      <th>auth_ts</th>\n",
       "      <th>uid</th>\n",
       "      <th>date_auth</th>\n",
       "    </tr>\n",
       "  </thead>\n",
       "  <tbody>\n",
       "    <tr>\n",
       "      <th>0</th>\n",
       "      <td>911382223</td>\n",
       "      <td>1</td>\n",
       "      <td>1998-11-18 09:43:43</td>\n",
       "    </tr>\n",
       "    <tr>\n",
       "      <th>1</th>\n",
       "      <td>932683089</td>\n",
       "      <td>2</td>\n",
       "      <td>1999-07-22 22:38:09</td>\n",
       "    </tr>\n",
       "    <tr>\n",
       "      <th>2</th>\n",
       "      <td>932921206</td>\n",
       "      <td>2</td>\n",
       "      <td>1999-07-25 16:46:46</td>\n",
       "    </tr>\n",
       "    <tr>\n",
       "      <th>3</th>\n",
       "      <td>933393015</td>\n",
       "      <td>2</td>\n",
       "      <td>1999-07-31 03:50:15</td>\n",
       "    </tr>\n",
       "    <tr>\n",
       "      <th>4</th>\n",
       "      <td>933875379</td>\n",
       "      <td>2</td>\n",
       "      <td>1999-08-05 17:49:39</td>\n",
       "    </tr>\n",
       "  </tbody>\n",
       "</table>\n",
       "</div>"
      ],
      "text/plain": [
       "     auth_ts  uid           date_auth\n",
       "0  911382223    1 1998-11-18 09:43:43\n",
       "1  932683089    2 1999-07-22 22:38:09\n",
       "2  932921206    2 1999-07-25 16:46:46\n",
       "3  933393015    2 1999-07-31 03:50:15\n",
       "4  933875379    2 1999-08-05 17:49:39"
      ]
     },
     "execution_count": 7,
     "metadata": {},
     "output_type": "execute_result"
    }
   ],
   "source": [
    "df_auth.head()"
   ]
  },
  {
   "cell_type": "code",
   "execution_count": 8,
   "id": "7b1c8393",
   "metadata": {},
   "outputs": [
    {
     "data": {
      "text/html": [
       "<div>\n",
       "<style scoped>\n",
       "    .dataframe tbody tr th:only-of-type {\n",
       "        vertical-align: middle;\n",
       "    }\n",
       "\n",
       "    .dataframe tbody tr th {\n",
       "        vertical-align: top;\n",
       "    }\n",
       "\n",
       "    .dataframe thead th {\n",
       "        text-align: right;\n",
       "    }\n",
       "</style>\n",
       "<table border=\"1\" class=\"dataframe\">\n",
       "  <thead>\n",
       "    <tr style=\"text-align: right;\">\n",
       "      <th></th>\n",
       "      <th>reg_ts</th>\n",
       "      <th>uid</th>\n",
       "      <th>date_reg</th>\n",
       "    </tr>\n",
       "  </thead>\n",
       "  <tbody>\n",
       "    <tr>\n",
       "      <th>0</th>\n",
       "      <td>911382223</td>\n",
       "      <td>1</td>\n",
       "      <td>1998-11-18 09:43:43</td>\n",
       "    </tr>\n",
       "    <tr>\n",
       "      <th>1</th>\n",
       "      <td>932683089</td>\n",
       "      <td>2</td>\n",
       "      <td>1999-07-22 22:38:09</td>\n",
       "    </tr>\n",
       "    <tr>\n",
       "      <th>2</th>\n",
       "      <td>947802447</td>\n",
       "      <td>3</td>\n",
       "      <td>2000-01-13 22:27:27</td>\n",
       "    </tr>\n",
       "    <tr>\n",
       "      <th>3</th>\n",
       "      <td>959523541</td>\n",
       "      <td>4</td>\n",
       "      <td>2000-05-28 14:19:01</td>\n",
       "    </tr>\n",
       "    <tr>\n",
       "      <th>4</th>\n",
       "      <td>969103313</td>\n",
       "      <td>5</td>\n",
       "      <td>2000-09-16 11:21:53</td>\n",
       "    </tr>\n",
       "  </tbody>\n",
       "</table>\n",
       "</div>"
      ],
      "text/plain": [
       "      reg_ts  uid            date_reg\n",
       "0  911382223    1 1998-11-18 09:43:43\n",
       "1  932683089    2 1999-07-22 22:38:09\n",
       "2  947802447    3 2000-01-13 22:27:27\n",
       "3  959523541    4 2000-05-28 14:19:01\n",
       "4  969103313    5 2000-09-16 11:21:53"
      ]
     },
     "execution_count": 8,
     "metadata": {},
     "output_type": "execute_result"
    }
   ],
   "source": [
    "df_reg.head()"
   ]
  },
  {
   "cell_type": "code",
   "execution_count": 5,
   "id": "bd81ef8c",
   "metadata": {},
   "outputs": [],
   "source": [
    "def retention(df_reg, df_auth, reg_start, reg_end, count_days = 30):\n",
    "    \"\"\"\n",
    "    Параметры\n",
    "    -------------\n",
    "    df_reg: DataFrame\n",
    "        данные регистрации включающие столбцы 'reg_ts':int, 'uid':int\n",
    "    df_auth: DataFrame\n",
    "        данные регистрации включающие столбцы 'auth_ts':int, 'uid':int\n",
    "    reg_start:string\n",
    "        пользователи которые зарегистрировались начииная с этой даты \"Y%-m%-d%\"\n",
    "    reg_end:string\n",
    "        пользователи которые зарегистрировались до этой даты \"Y%-m%-d%\"\n",
    "    count_days: int\n",
    "        для скольки дней после регистрации считаем Retention\n",
    "    \"\"\"\n",
    "    # Переводим timestamp в дни\n",
    "    df_reg['date_reg'] = pd.to_datetime(df_reg['reg_ts'], unit = 's')\n",
    "\n",
    "    df_auth['date_auth'] = pd.to_datetime(df_auth['auth_ts'], unit = 's')\n",
    "\n",
    "    # Создаем общий Датафрейм с ключом по айди пользователя\n",
    "    df = df_auth.merge(df_reg, on = 'uid')\n",
    "\n",
    "    # Выделяем нужную дату\n",
    "    df = df[(df.date_reg >= reg_start) & (df.date_reg <= reg_end)]\n",
    "\n",
    "    df['date_reg'] = df['date_reg'].dt.date\n",
    "\n",
    "    df['date_auth'] = df['date_auth'].dt.date\n",
    "\n",
    "    # Вычисляем количество дней после регистрации для  каждой авторизации\n",
    "    df = df.assign(date_after_reg=lambda x: (x.date_auth - x.date_reg))\n",
    "\n",
    "    df[['uid','date_reg', 'date_auth', 'date_after_reg']]\n",
    "\n",
    "    df['date_after_reg'] = df['date_after_reg'].dt.days\n",
    "\n",
    "    #группируем пользователей по когортам регистрации и дней после регистрации, но не более 30 дней\n",
    "    df = df[(df.date_after_reg < (count_days + 1))]\\\n",
    "            .groupby(['date_reg', 'date_after_reg'], as_index = False)\\\n",
    "            .agg({'uid' : \"nunique\"})\\\n",
    "            .rename(columns = {'uid' : 'active_users'})\n",
    "\n",
    "    # Создаем ДатаФрейм с количеством пользователей в когорте для подсчета Retention\n",
    "    df_cogort_users = df.query('date_after_reg == 0')\\\n",
    "                        .rename(columns = {'active_users' : 'cogort_users'})\\\n",
    "                        .drop(['date_after_reg'], axis = 1)\n",
    "\n",
    "    df = df.merge(df_cogort_users, on = 'date_reg')\n",
    "\n",
    "    # Считаем Retention\n",
    "    df = df.assign(retention=lambda x: round((x.active_users/x.cogort_users),2))\n",
    "\n",
    "    # разворачиваем таблицу\n",
    "    df_pivot = df.pivot(index = 'date_reg', columns = 'date_after_reg', values = 'retention')\n",
    "\n",
    "    # Визуализация\n",
    "    plt.figure(figsize=(18, 16))\n",
    "    plt.title('Retention per day after registration in cogorts')\n",
    "    sns.heatmap(df_pivot, annot=True, fmt=\".0%\")\n",
    "\n",
    "    #Средневзвешеный Retention по дням\n",
    "    df_avg_weight_retention = df.query('date_after_reg != 0')\\\n",
    "                                .groupby(\"date_after_reg\")\\\n",
    "                                .agg({'active_users' : 'sum'})\\\n",
    "                                .assign(AVG_weight_retention=lambda x: ((x.active_users/df.query('date_after_reg == 0 ').active_users.sum())*100).round(2)) \n",
    "\n",
    "    print(df_avg_weight_retention)"
   ]
  },
  {
   "cell_type": "code",
   "execution_count": 6,
   "id": "5565decd",
   "metadata": {},
   "outputs": [
    {
     "name": "stdout",
     "output_type": "stream",
     "text": [
      "                active_users  AVG_weight_retention\n",
      "date_after_reg                                    \n",
      "1                        672                  2.06\n",
      "2                       1337                  4.10\n",
      "3                       1555                  4.77\n",
      "4                       1713                  5.25\n",
      "5                       1842                  5.65\n",
      "6                       2278                  6.98\n",
      "7                       1855                  5.69\n",
      "8                       1566                  4.80\n",
      "9                       1643                  5.04\n",
      "10                      1663                  5.10\n",
      "11                      1639                  5.02\n",
      "12                      1617                  4.96\n",
      "13                      1562                  4.79\n",
      "14                      1444                  4.43\n",
      "15                      1512                  4.64\n",
      "16                      1465                  4.49\n",
      "17                      1404                  4.30\n",
      "18                      1351                  4.14\n",
      "19                      1276                  3.91\n",
      "20                      1241                  3.80\n",
      "21                      1276                  3.91\n",
      "22                      1213                  3.72\n",
      "23                      1131                  3.47\n",
      "24                      1102                  3.38\n",
      "25                      1100                  3.37\n",
      "26                      1070                  3.28\n",
      "27                       981                  3.01\n",
      "28                      1001                  3.07\n",
      "29                       990                  3.04\n",
      "30                       885                  2.71\n"
     ]
    },
    {
     "data": {
      "image/png": "[encoded data removed]",
      "text/plain": [
       "<Figure size 1296x1152 with 2 Axes>"
      ]
     },
     "metadata": {
      "needs_background": "light"
     },
     "output_type": "display_data"
    }
   ],
   "source": [
    "retention(df_reg, df_auth, \"2020-01-01\", \"2020-01-31\")"
   ]
  },
  {
   "cell_type": "markdown",
   "id": "385ff241",
   "metadata": {},
   "source": [
    "### Задание 2\n",
    "Имеются результаты A/B теста, в котором двум группам пользователей предлагались различные наборы акционных предложений. Известно, что ARPU в тестовой группе выше на 5%, чем в контрольной. При этом в контрольной группе 1928 игроков из 202103 оказались платящими, а в тестовой – 1805 из 202667.\n",
    "\n",
    "Какой набор предложений можно считать лучшим? Какие метрики стоит проанализировать для принятия правильного решения и как?"
   ]
  },
  {
   "cell_type": "code",
   "execution_count": 9,
   "id": "30ba2ef0",
   "metadata": {},
   "outputs": [],
   "source": [
    "#Загружаем файл\n",
    "df_ab = pd.read_csv('https://getfile.dokpub.com/yandex/get/https://disk.yandex.ru/d/12gk_ATEeBZm4A', sep = ';')"
   ]
  },
  {
   "cell_type": "markdown",
   "id": "07c51478",
   "metadata": {},
   "source": [
    "Посмотрим метрики ARPPU, ARPU и конверсию в платящего пользователя в тестовой и контрольной группе"
   ]
  },
  {
   "cell_type": "code",
   "execution_count": 10,
   "id": "519cd7e9",
   "metadata": {},
   "outputs": [
    {
     "data": {
      "text/html": [
       "<div>\n",
       "<style scoped>\n",
       "    .dataframe tbody tr th:only-of-type {\n",
       "        vertical-align: middle;\n",
       "    }\n",
       "\n",
       "    .dataframe tbody tr th {\n",
       "        vertical-align: top;\n",
       "    }\n",
       "\n",
       "    .dataframe thead th {\n",
       "        text-align: right;\n",
       "    }\n",
       "</style>\n",
       "<table border=\"1\" class=\"dataframe\">\n",
       "  <thead>\n",
       "    <tr style=\"text-align: right;\">\n",
       "      <th></th>\n",
       "      <th>testgroup</th>\n",
       "      <th>users</th>\n",
       "      <th>purchase_users</th>\n",
       "      <th>revenue</th>\n",
       "      <th>ARPPU</th>\n",
       "      <th>ARPU</th>\n",
       "      <th>CR</th>\n",
       "    </tr>\n",
       "  </thead>\n",
       "  <tbody>\n",
       "    <tr>\n",
       "      <th>0</th>\n",
       "      <td>a</td>\n",
       "      <td>202103</td>\n",
       "      <td>1928</td>\n",
       "      <td>5136189</td>\n",
       "      <td>2664.00</td>\n",
       "      <td>25.41</td>\n",
       "      <td>0.95</td>\n",
       "    </tr>\n",
       "    <tr>\n",
       "      <th>1</th>\n",
       "      <td>b</td>\n",
       "      <td>202667</td>\n",
       "      <td>1805</td>\n",
       "      <td>5421603</td>\n",
       "      <td>3003.66</td>\n",
       "      <td>26.75</td>\n",
       "      <td>0.89</td>\n",
       "    </tr>\n",
       "  </tbody>\n",
       "</table>\n",
       "</div>"
      ],
      "text/plain": [
       "  testgroup   users  purchase_users  revenue    ARPPU   ARPU    CR\n",
       "0         a  202103            1928  5136189  2664.00  25.41  0.95\n",
       "1         b  202667            1805  5421603  3003.66  26.75  0.89"
      ]
     },
     "execution_count": 10,
     "metadata": {},
     "output_type": "execute_result"
    }
   ],
   "source": [
    "df_ab_arpu = df_ab.groupby('testgroup', as_index = False)\\\n",
    "                    .agg({'user_id' : 'count', 'revenue' : 'sum'})\n",
    "\n",
    "df_ab_arpu = df_ab_arpu.assign(ARPU = lambda x : (x.revenue / x.user_id)).round(2)\n",
    "df_ab_arpu\n",
    "\n",
    "df_ab_arppu = df_ab.query('0 < revenue')\\\n",
    "                    .groupby('testgroup', as_index = False)\\\n",
    "                    .agg({'user_id' : 'count', 'revenue' : 'sum'})\n",
    "df_ab_arppu = df_ab_arppu.assign(ARPPU = lambda x : (x.revenue / x.user_id)).round(2)\n",
    "df_ab_arppu\n",
    "\n",
    "df_ab_metrics = df_ab_arpu.merge(df_ab_arppu, on = \"testgroup\")\\\n",
    "                            .rename(columns = {'user_id_x' : 'users', 'user_id_y' : 'purchase_users','revenue_x' : 'revenue' })\n",
    "\n",
    "df_ab_metrics = df_ab_metrics[['testgroup', 'users', 'purchase_users', 'revenue', 'ARPPU', 'ARPU']]\n",
    "\n",
    "df_ab_metrics.assign(CR = lambda x : (((x.purchase_users/x.users)*100).round(2)))"
   ]
  },
  {
   "cell_type": "markdown",
   "id": "94ddbf8d",
   "metadata": {},
   "source": [
    "В таблице мы видим, что конверсия в контрольной группе больше ~ 6% \n",
    "Более потробно посмотрим на доход с пользователей"
   ]
  },
  {
   "cell_type": "code",
   "execution_count": 11,
   "id": "689407ba",
   "metadata": {},
   "outputs": [
    {
     "data": {
      "text/plain": [
       "count     1928.000000\n",
       "mean      2663.998444\n",
       "std       9049.039763\n",
       "min        200.000000\n",
       "25%        257.000000\n",
       "50%        311.000000\n",
       "75%        361.000000\n",
       "max      37433.000000\n",
       "Name: revenue, dtype: float64"
      ]
     },
     "execution_count": 11,
     "metadata": {},
     "output_type": "execute_result"
    }
   ],
   "source": [
    "df_ab.query('testgroup == \"a\" and revenue > 0')\\\n",
    "        .sort_values('revenue')\\\n",
    "        .revenue.describe()"
   ]
  },
  {
   "cell_type": "code",
   "execution_count": 12,
   "id": "c0642481",
   "metadata": {},
   "outputs": [
    {
     "data": {
      "text/plain": [
       "count    1805.000000\n",
       "mean     3003.658172\n",
       "std       572.619709\n",
       "min      2000.000000\n",
       "25%      2513.000000\n",
       "50%      3022.000000\n",
       "75%      3478.000000\n",
       "max      4000.000000\n",
       "Name: revenue, dtype: float64"
      ]
     },
     "execution_count": 12,
     "metadata": {},
     "output_type": "execute_result"
    }
   ],
   "source": [
    "df_ab.query('testgroup == \"b\" and revenue > 0')\\\n",
    "        .sort_values('revenue')\\\n",
    "        .revenue.describe()"
   ]
  },
  {
   "cell_type": "markdown",
   "id": "89a020a7",
   "metadata": {},
   "source": [
    "Видно, что медианы у групп отличаются почти в 10 раз.\n",
    "Построим граффик распределения дохода по группам"
   ]
  },
  {
   "cell_type": "code",
   "execution_count": 13,
   "id": "d68f7784",
   "metadata": {},
   "outputs": [],
   "source": [
    "df_ab_purchase = df_ab.query(' 0 < revenue')"
   ]
  },
  {
   "cell_type": "code",
   "execution_count": 14,
   "id": "6255c3e7",
   "metadata": {},
   "outputs": [
    {
     "data": {
      "text/plain": [
       "<seaborn.axisgrid.FacetGrid at 0x287133cdea0>"
      ]
     },
     "execution_count": 14,
     "metadata": {},
     "output_type": "execute_result"
    },
    {
     "data": {
      "image/png": "[encoded data removed]",
      "text/plain": [
       "<Figure size 416x360 with 1 Axes>"
      ]
     },
     "metadata": {
      "needs_background": "light"
     },
     "output_type": "display_data"
    }
   ],
   "source": [
    "sns.displot (data = df_ab_purchase.dropna(), x = 'revenue', hue = 'testgroup')"
   ]
  },
  {
   "cell_type": "markdown",
   "id": "02091cc9",
   "metadata": {},
   "source": [
    "Попробуем прологорифмировать распределения"
   ]
  },
  {
   "cell_type": "code",
   "execution_count": 15,
   "id": "76fcf459",
   "metadata": {},
   "outputs": [
    {
     "name": "stderr",
     "output_type": "stream",
     "text": [
      "C:\\Users\\Vladimir\\AppData\\Local\\Temp/ipykernel_7680/3308362058.py:1: SettingWithCopyWarning: \n",
      "A value is trying to be set on a copy of a slice from a DataFrame.\n",
      "Try using .loc[row_indexer,col_indexer] = value instead\n",
      "\n",
      "See the caveats in the documentation: https://pandas.pydata.org/pandas-docs/stable/user_guide/indexing.html#returning-a-view-versus-a-copy\n",
      "  df_ab_purchase['log_revenue'] = np.log(df_ab_purchase.revenue)\n"
     ]
    }
   ],
   "source": [
    "df_ab_purchase['log_revenue'] = np.log(df_ab_purchase.revenue)"
   ]
  },
  {
   "cell_type": "code",
   "execution_count": 16,
   "id": "12f165f0",
   "metadata": {},
   "outputs": [
    {
     "data": {
      "text/html": [
       "<div>\n",
       "<style scoped>\n",
       "    .dataframe tbody tr th:only-of-type {\n",
       "        vertical-align: middle;\n",
       "    }\n",
       "\n",
       "    .dataframe tbody tr th {\n",
       "        vertical-align: top;\n",
       "    }\n",
       "\n",
       "    .dataframe thead th {\n",
       "        text-align: right;\n",
       "    }\n",
       "</style>\n",
       "<table border=\"1\" class=\"dataframe\">\n",
       "  <thead>\n",
       "    <tr style=\"text-align: right;\">\n",
       "      <th></th>\n",
       "      <th>user_id</th>\n",
       "      <th>revenue</th>\n",
       "      <th>testgroup</th>\n",
       "      <th>log_revenue</th>\n",
       "    </tr>\n",
       "  </thead>\n",
       "  <tbody>\n",
       "    <tr>\n",
       "      <th>72</th>\n",
       "      <td>73</td>\n",
       "      <td>351</td>\n",
       "      <td>a</td>\n",
       "      <td>5.860786</td>\n",
       "    </tr>\n",
       "    <tr>\n",
       "      <th>160</th>\n",
       "      <td>161</td>\n",
       "      <td>3797</td>\n",
       "      <td>b</td>\n",
       "      <td>8.241967</td>\n",
       "    </tr>\n",
       "    <tr>\n",
       "      <th>341</th>\n",
       "      <td>342</td>\n",
       "      <td>290</td>\n",
       "      <td>a</td>\n",
       "      <td>5.669881</td>\n",
       "    </tr>\n",
       "    <tr>\n",
       "      <th>377</th>\n",
       "      <td>378</td>\n",
       "      <td>3768</td>\n",
       "      <td>b</td>\n",
       "      <td>8.234300</td>\n",
       "    </tr>\n",
       "    <tr>\n",
       "      <th>385</th>\n",
       "      <td>386</td>\n",
       "      <td>250</td>\n",
       "      <td>a</td>\n",
       "      <td>5.521461</td>\n",
       "    </tr>\n",
       "    <tr>\n",
       "      <th>...</th>\n",
       "      <td>...</td>\n",
       "      <td>...</td>\n",
       "      <td>...</td>\n",
       "      <td>...</td>\n",
       "    </tr>\n",
       "    <tr>\n",
       "      <th>404315</th>\n",
       "      <td>404316</td>\n",
       "      <td>262</td>\n",
       "      <td>a</td>\n",
       "      <td>5.568345</td>\n",
       "    </tr>\n",
       "    <tr>\n",
       "      <th>404525</th>\n",
       "      <td>404526</td>\n",
       "      <td>3120</td>\n",
       "      <td>b</td>\n",
       "      <td>8.045588</td>\n",
       "    </tr>\n",
       "    <tr>\n",
       "      <th>404543</th>\n",
       "      <td>404544</td>\n",
       "      <td>369</td>\n",
       "      <td>a</td>\n",
       "      <td>5.910797</td>\n",
       "    </tr>\n",
       "    <tr>\n",
       "      <th>404602</th>\n",
       "      <td>404603</td>\n",
       "      <td>251</td>\n",
       "      <td>a</td>\n",
       "      <td>5.525453</td>\n",
       "    </tr>\n",
       "    <tr>\n",
       "      <th>404767</th>\n",
       "      <td>404768</td>\n",
       "      <td>231</td>\n",
       "      <td>a</td>\n",
       "      <td>5.442418</td>\n",
       "    </tr>\n",
       "  </tbody>\n",
       "</table>\n",
       "<p>3733 rows × 4 columns</p>\n",
       "</div>"
      ],
      "text/plain": [
       "        user_id  revenue testgroup  log_revenue\n",
       "72           73      351         a     5.860786\n",
       "160         161     3797         b     8.241967\n",
       "341         342      290         a     5.669881\n",
       "377         378     3768         b     8.234300\n",
       "385         386      250         a     5.521461\n",
       "...         ...      ...       ...          ...\n",
       "404315   404316      262         a     5.568345\n",
       "404525   404526     3120         b     8.045588\n",
       "404543   404544      369         a     5.910797\n",
       "404602   404603      251         a     5.525453\n",
       "404767   404768      231         a     5.442418\n",
       "\n",
       "[3733 rows x 4 columns]"
      ]
     },
     "execution_count": 16,
     "metadata": {},
     "output_type": "execute_result"
    }
   ],
   "source": [
    "df_ab_purchase"
   ]
  },
  {
   "cell_type": "code",
   "execution_count": 17,
   "id": "0a4fcc48",
   "metadata": {},
   "outputs": [
    {
     "data": {
      "text/plain": [
       "<seaborn.axisgrid.FacetGrid at 0x287133ce0e0>"
      ]
     },
     "execution_count": 17,
     "metadata": {},
     "output_type": "execute_result"
    },
    {
     "data": {
      "image/png": "[encoded data removed]",
      "text/plain": [
       "<Figure size 416x360 with 1 Axes>"
      ]
     },
     "metadata": {
      "needs_background": "light"
     },
     "output_type": "display_data"
    }
   ],
   "source": [
    "sns.displot (data = df_ab_purchase.dropna(), x = 'log_revenue', hue = 'testgroup')"
   ]
  },
  {
   "cell_type": "markdown",
   "id": "e54073de",
   "metadata": {},
   "source": [
    "На граффике видно что в контрольной группе есть выбросы (Высокодоходные пользователи \"Киты\"). \n",
    "Посчитаем их количество"
   ]
  },
  {
   "cell_type": "code",
   "execution_count": 18,
   "id": "b8491ff6",
   "metadata": {},
   "outputs": [
    {
     "data": {
      "text/plain": [
       "123"
      ]
     },
     "execution_count": 18,
     "metadata": {},
     "output_type": "execute_result"
    }
   ],
   "source": [
    "df_ab.query(' 30000 < revenue').user_id.count()"
   ]
  },
  {
   "cell_type": "markdown",
   "id": "e5f01acf",
   "metadata": {},
   "source": [
    " - Основная масса пользователей распределилась равномерно в контрольной и тестовой группе.\n",
    " - 123 пользователя в контрольной группе вносят существенный вклад в доход и увеличивают ARPPU и ARPU.\n",
    " - Необходимо понять почему они есть в контрольной группе и нету в тестовой.\n",
    " - Возможно это техническая ошибка или \"Китам\" не понравилось акционное предложение в тестовой группе.\n",
    " "
   ]
  },
  {
   "cell_type": "markdown",
   "id": "4454909e",
   "metadata": {},
   "source": [
    "##### Проверим распределение в группах с помощью теста Шапира Уилка\n",
    "\n",
    "H0 - у групп нормальное распределение"
   ]
  },
  {
   "cell_type": "code",
   "execution_count": 19,
   "id": "50af9315",
   "metadata": {},
   "outputs": [
    {
     "data": {
      "text/plain": [
       "ShapiroResult(statistic=0.26476240158081055, pvalue=0.0)"
      ]
     },
     "execution_count": 19,
     "metadata": {},
     "output_type": "execute_result"
    }
   ],
   "source": [
    "stats.shapiro(df_ab_purchase.query('testgroup == \"a\"').revenue.sample(1000, random_state=17))"
   ]
  },
  {
   "cell_type": "code",
   "execution_count": 20,
   "id": "506849b8",
   "metadata": {},
   "outputs": [
    {
     "data": {
      "text/plain": [
       "ShapiroResult(statistic=0.9577841758728027, pvalue=2.1958386833413916e-16)"
      ]
     },
     "execution_count": 20,
     "metadata": {},
     "output_type": "execute_result"
    }
   ],
   "source": [
    "stats.shapiro(df_ab_purchase.query('testgroup == \"a\" and revenue < 30000').revenue.sample(1000, random_state=17))"
   ]
  },
  {
   "cell_type": "code",
   "execution_count": 21,
   "id": "582620ec",
   "metadata": {},
   "outputs": [
    {
     "data": {
      "text/plain": [
       "ShapiroResult(statistic=0.9613320827484131, pvalue=1.2885095898576755e-15)"
      ]
     },
     "execution_count": 21,
     "metadata": {},
     "output_type": "execute_result"
    }
   ],
   "source": [
    "stats.shapiro(df_ab_purchase.query('testgroup == \"b\"').revenue.sample(1000, random_state=17))"
   ]
  },
  {
   "cell_type": "markdown",
   "id": "8c4d043c",
   "metadata": {},
   "source": [
    " - Все варианты распределений не нормальны"
   ]
  },
  {
   "cell_type": "markdown",
   "id": "1686eebe",
   "metadata": {},
   "source": [
    "##### Проверим группы тестом непараметрическим Манн-Уитни\n",
    "\n",
    "H0 - у групп нет статистически значимых различий"
   ]
  },
  {
   "cell_type": "code",
   "execution_count": 22,
   "id": "979ce343",
   "metadata": {},
   "outputs": [
    {
     "data": {
      "text/plain": [
       "MannwhitneyuResult(statistic=222015.0, pvalue=0.0)"
      ]
     },
     "execution_count": 22,
     "metadata": {},
     "output_type": "execute_result"
    }
   ],
   "source": [
    "stats.mannwhitneyu(df_ab_purchase.query('testgroup == \"a\"').revenue, df_ab_purchase.query('testgroup == \"b\"').revenue)"
   ]
  },
  {
   "cell_type": "code",
   "execution_count": 23,
   "id": "3d192fe3",
   "metadata": {},
   "outputs": [
    {
     "data": {
      "text/plain": [
       "MannwhitneyuResult(statistic=0.0, pvalue=0.0)"
      ]
     },
     "execution_count": 23,
     "metadata": {},
     "output_type": "execute_result"
    }
   ],
   "source": [
    "stats.mannwhitneyu(df_ab_purchase.query('testgroup == \"a\" and revenue < 30000').revenue, df_ab_purchase.query('testgroup == \"b\"').revenue)"
   ]
  },
  {
   "cell_type": "markdown",
   "id": "3fdf0d37",
   "metadata": {},
   "source": [
    " Тест показал статистически значимые различия между распределениями. Таким образом, можно утверждать, что метрика ARPPU значимо выросла в тестовой группе по сравнению с контрольной."
   ]
  },
  {
   "cell_type": "markdown",
   "id": "362a9d8d",
   "metadata": {},
   "source": [
    "Посмотрим метрики ARPPU, ARPU и конверсию в платящего пользователя в тестовой и контрольной группе без учета выброса в контрольной группе"
   ]
  },
  {
   "cell_type": "code",
   "execution_count": 24,
   "id": "929263aa",
   "metadata": {},
   "outputs": [
    {
     "data": {
      "text/html": [
       "<div>\n",
       "<style scoped>\n",
       "    .dataframe tbody tr th:only-of-type {\n",
       "        vertical-align: middle;\n",
       "    }\n",
       "\n",
       "    .dataframe tbody tr th {\n",
       "        vertical-align: top;\n",
       "    }\n",
       "\n",
       "    .dataframe thead th {\n",
       "        text-align: right;\n",
       "    }\n",
       "</style>\n",
       "<table border=\"1\" class=\"dataframe\">\n",
       "  <thead>\n",
       "    <tr style=\"text-align: right;\">\n",
       "      <th></th>\n",
       "      <th>testgroup</th>\n",
       "      <th>users</th>\n",
       "      <th>purchase_users</th>\n",
       "      <th>revenue</th>\n",
       "      <th>ARPPU</th>\n",
       "      <th>ARPU</th>\n",
       "      <th>CR</th>\n",
       "    </tr>\n",
       "  </thead>\n",
       "  <tbody>\n",
       "    <tr>\n",
       "      <th>0</th>\n",
       "      <td>a</td>\n",
       "      <td>202103</td>\n",
       "      <td>1805</td>\n",
       "      <td>5136189</td>\n",
       "      <td>302.46</td>\n",
       "      <td>25.41</td>\n",
       "      <td>0.89</td>\n",
       "    </tr>\n",
       "    <tr>\n",
       "      <th>1</th>\n",
       "      <td>b</td>\n",
       "      <td>202667</td>\n",
       "      <td>1805</td>\n",
       "      <td>5421603</td>\n",
       "      <td>3003.66</td>\n",
       "      <td>26.75</td>\n",
       "      <td>0.89</td>\n",
       "    </tr>\n",
       "  </tbody>\n",
       "</table>\n",
       "</div>"
      ],
      "text/plain": [
       "  testgroup   users  purchase_users  revenue    ARPPU   ARPU    CR\n",
       "0         a  202103            1805  5136189   302.46  25.41  0.89\n",
       "1         b  202667            1805  5421603  3003.66  26.75  0.89"
      ]
     },
     "execution_count": 24,
     "metadata": {},
     "output_type": "execute_result"
    }
   ],
   "source": [
    "df_ab_arpu = df_ab.groupby('testgroup', as_index = False)\\\n",
    "                    .agg({'user_id' : 'count', 'revenue' : 'sum'})\n",
    "\n",
    "df_ab_arpu = df_ab_arpu.assign(ARPU = lambda x : (x.revenue / x.user_id)).round(2)\n",
    "df_ab_arpu\n",
    "\n",
    "df_ab_arppu = df_ab.query('0 < revenue < 30000')\\\n",
    "                    .groupby('testgroup', as_index = False)\\\n",
    "                    .agg({'user_id' : 'count', 'revenue' : 'sum'})\n",
    "df_ab_arppu = df_ab_arppu.assign(ARPPU = lambda x : (x.revenue / x.user_id)).round(2)\n",
    "df_ab_arppu\n",
    "\n",
    "df_ab_metrics = df_ab_arpu.merge(df_ab_arppu, on = \"testgroup\")\\\n",
    "                            .rename(columns = {'user_id_x' : 'users', 'user_id_y' : 'purchase_users','revenue_x' : 'revenue' })\n",
    "\n",
    "df_ab_metrics = df_ab_metrics[['testgroup', 'users', 'purchase_users', 'revenue', 'ARPPU', 'ARPU']]\n",
    "\n",
    "df_ab_metrics.assign(CR = lambda x : (((x.purchase_users/x.users)*100).round(2)))"
   ]
  },
  {
   "cell_type": "markdown",
   "id": "16743bbe",
   "metadata": {},
   "source": [
    "Видим, что без учета выброса в контрольной группе конверсия и количество платящих пользователей равны и ARPPU в тестовой группе ~ в 10 раз больше чем в контрольной группе"
   ]
  },
  {
   "cell_type": "markdown",
   "id": "56e00df1",
   "metadata": {},
   "source": [
    "### Выоды\n",
    "\n",
    " - В тестовой группе распределение revenue равномерное\n",
    " - В контрольной группе есть пользователи, которые платят мало и небольшое кол-во пользователей, которые платят очень много\n",
    " \n",
    " Есть две гипотезы:\n",
    "- Либо выбросы в контрольной группе это ошибки в данных.\n",
    "- Либо по какой-то причине сильно платящие клиенты перестали платить так много (мб ошибка какая-то в системе оплаты)\n",
    "- Поэтому я бы изучил подробнее этих клиентов\n",
    "\n",
    "\n",
    "- Но даже с наличием выбросов тестовая группа имеет стат.значимые различия поэтому можно считать это предложение лучшим"
   ]
  },
  {
   "cell_type": "markdown",
   "id": "f3381a33",
   "metadata": {},
   "source": [
    "### Задание 3\n",
    "В игре Plants & Gardens каждый месяц проводятся тематические события, ограниченные по времени. В них игроки могут получить уникальные предметы для сада и персонажей, дополнительные монеты или бонусы. Для получения награды требуется пройти ряд уровней за определенное время. С помощью каких метрик можно оценить результаты последнего прошедшего события?\n",
    "\n",
    "Предположим, в другом событии мы усложнили механику событий так, что при каждой неудачной попытке выполнения уровня игрок будет откатываться на несколько уровней назад. Изменится ли набор метрик оценки результата? Если да, то как?"
   ]
  },
  {
   "cell_type": "markdown",
   "id": "6ce86a31",
   "metadata": {},
   "source": [
    "\n",
    "- DAU -  посмотреть увеличиваются ли количество наших пользователей в дни с акциями и после;\n",
    "- MAU - количество уникальных пользователей, которые зашли в приложение в течение месяца;\n",
    "- Stickiness rate = DAU / MAU Залипательность \n",
    "- CR - по прохождению уровней, по получению наград и успешно прошедших событие;\n",
    "- Время, которое пользователь тратит на переход на следующий уровень;\n",
    "- Retention - за время прохождения акции в сравнении до акции;\n",
    "- Средняя продолжительность сессии (average session length, ASL);\n",
    "- Кол-во пройденных уровней.\n",
    "\n",
    "\n",
    "В другом событии можно добавить к имеющимся:\n",
    "\n",
    "- Глубина прохождения – среднее количество уровней,успешно пройденных посетителями сайта за одну сессию; \n",
    "- Среднее кол-во попыток прохождения каждого уровня;\n",
    "- Уровень оттока с каждого уровня.\n",
    "- сколько неудачных попыток делает юзер за одну сессию"
   ]
  },
  {
   "cell_type": "code",
   "execution_count": null,
   "id": "0a6e123a",
   "metadata": {},
   "outputs": [],
   "source": []
  }
 ],
 "metadata": {
  "kernelspec": {
   "display_name": "Python 3 (ipykernel)",
   "language": "python",
   "name": "python3"
  },
  "language_info": {
   "codemirror_mode": {
    "name": "ipython",
    "version": 3
   },
   "file_extension": ".py",
   "mimetype": "text/x-python",
   "name": "python",
   "nbconvert_exporter": "python",
   "pygments_lexer": "ipython3",
   "version": "3.10.2"
  }
 },
 "nbformat": 4,
 "nbformat_minor": 5
}
