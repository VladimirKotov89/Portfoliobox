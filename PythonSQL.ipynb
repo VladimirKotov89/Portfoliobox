{
 "cells": [
  {
   "cell_type": "code",
   "execution_count": 8,
   "id": "c030530b",
   "metadata": {},
   "outputs": [],
   "source": [
    "import pandas as pd\n",
    "from pandasql import sqldf\n",
    "import numpy as np"
   ]
  },
  {
   "cell_type": "code",
   "execution_count": 12,
   "id": "0bbe60c5",
   "metadata": {},
   "outputs": [],
   "source": [
    "# В таблице user_actions сохраняются действия покупателей в интернет магазине, структура таблицы\n",
    "\n",
    "# user_id    - id пользователи\n",
    "# product_id - id товара\n",
    "# action     - действие, просмотр товара, сохранение в корзину, покупка\n",
    "# time       - время совершения события\n",
    "# date       - дата события\n",
    "\n",
    "# Для каждого дня расчитайте, какой процент просмотров товаров завершился покупкой"
   ]
  },
  {
   "cell_type": "code",
   "execution_count": 13,
   "id": "baadd6be",
   "metadata": {},
   "outputs": [],
   "source": [
    "# Создаем список id пользователей и товара\n",
    "all_user_ids = np.arange(1, 10000)\n",
    "all_product_ids = np.arange(1, 100)"
   ]
  },
  {
   "cell_type": "code",
   "execution_count": 20,
   "id": "481d52fc",
   "metadata": {},
   "outputs": [],
   "source": [
    "# Создаем выборку из 10000 id пользователей и товаров\n",
    "n = 10000\n",
    "user_ids    = np.random.choice(all_user_ids, n)\n",
    "product_ids = np.random.choice(all_product_ids, n)"
   ]
  },
  {
   "cell_type": "code",
   "execution_count": 21,
   "id": "b37f03b6",
   "metadata": {},
   "outputs": [],
   "source": [
    "# Создаем список с датами с шагом в одну минуту начиная от 2022-01-01\n",
    "start_date = pd.to_datetime('2022-01-01')\n",
    "\n",
    "times = pd.date_range(start_date, periods=n, freq='1min')"
   ]
  },
  {
   "cell_type": "code",
   "execution_count": 25,
   "id": "866c2794",
   "metadata": {},
   "outputs": [],
   "source": [
    "# Создаем ДатаФрейм и добавлем столбец с action\n",
    "user_actions = pd.DataFrame ({'user_id' : user_ids,\n",
    "                              'product_id' : product_ids,\n",
    "                              'time' : times})"
   ]
  },
  {
   "cell_type": "code",
   "execution_count": 26,
   "id": "22d50aab",
   "metadata": {},
   "outputs": [],
   "source": [
    "user_actions['action'] = 'view'"
   ]
  },
  {
   "cell_type": "code",
   "execution_count": 27,
   "id": "1c530f7a",
   "metadata": {},
   "outputs": [],
   "source": [
    "#\n",
    "def generate_funel_actions(user_id, product_id, time):\n",
    "    to_cart = 0.2\n",
    "    to_purchase = 0.4\n",
    "    \n",
    "    df = pd.DataFrame()\n",
    "    \n",
    "    if np.random.binomial(1, to_cart, 1) [0]:\n",
    "        df = pd.DataFrame({\n",
    "                            'user_id'    : user_id,\n",
    "                            'product_id' : product_id,\n",
    "                            'time'       : time + pd.Timedelta(5, unit = 's'),\n",
    "                            'action'     : 'add to cart'}, index = [0])\n",
    "        if np.random.binomial(1, to_purchase, 1) [0]:\n",
    "            df_purchase = pd.DataFrame({\n",
    "                                        'user_id'    : user_id,\n",
    "                                        'product_id' : product_id,\n",
    "                                        'time'       : time + pd.Timedelta(5, unit = 's'),\n",
    "                                        'action'     : 'purchase'}, index = [0])\n",
    "            df = df.append(df_purchase)\n",
    "    return df"
   ]
  },
  {
   "cell_type": "code",
   "execution_count": 28,
   "id": "17fb7d35",
   "metadata": {},
   "outputs": [],
   "source": [
    "to_cart_df = pd.DataFrame()"
   ]
  },
  {
   "cell_type": "code",
   "execution_count": 29,
   "id": "0013ca82",
   "metadata": {},
   "outputs": [],
   "source": [
    "for index, row in user_actions.iterrows():\n",
    "    user_df = generate_funel_actions(row['user_id'], row['product_id'], row['time'])\n",
    "    to_cart_df = to_cart_df.append(user_df)"
   ]
  },
  {
   "cell_type": "code",
   "execution_count": 31,
   "id": "11eaf75c",
   "metadata": {},
   "outputs": [],
   "source": [
    "user_actions = user_actions.append(to_cart_df)\n",
    "user_actions = user_actions.sort_values('time')"
   ]
  },
  {
   "cell_type": "code",
   "execution_count": 32,
   "id": "596d29eb",
   "metadata": {},
   "outputs": [],
   "source": [
    "user_actions['date'] = user_actions.time.dt.date"
   ]
  },
  {
   "cell_type": "code",
   "execution_count": 33,
   "id": "43f4234b",
   "metadata": {},
   "outputs": [
    {
     "data": {
      "text/html": [
       "<div>\n",
       "<style scoped>\n",
       "    .dataframe tbody tr th:only-of-type {\n",
       "        vertical-align: middle;\n",
       "    }\n",
       "\n",
       "    .dataframe tbody tr th {\n",
       "        vertical-align: top;\n",
       "    }\n",
       "\n",
       "    .dataframe thead th {\n",
       "        text-align: right;\n",
       "    }\n",
       "</style>\n",
       "<table border=\"1\" class=\"dataframe\">\n",
       "  <thead>\n",
       "    <tr style=\"text-align: right;\">\n",
       "      <th></th>\n",
       "      <th>user_id</th>\n",
       "      <th>product_id</th>\n",
       "      <th>time</th>\n",
       "      <th>action</th>\n",
       "      <th>date</th>\n",
       "    </tr>\n",
       "  </thead>\n",
       "  <tbody>\n",
       "    <tr>\n",
       "      <th>0</th>\n",
       "      <td>773</td>\n",
       "      <td>83</td>\n",
       "      <td>2022-01-01 00:00:00</td>\n",
       "      <td>view</td>\n",
       "      <td>2022-01-01</td>\n",
       "    </tr>\n",
       "    <tr>\n",
       "      <th>0</th>\n",
       "      <td>773</td>\n",
       "      <td>83</td>\n",
       "      <td>2022-01-01 00:00:05</td>\n",
       "      <td>add to cart</td>\n",
       "      <td>2022-01-01</td>\n",
       "    </tr>\n",
       "    <tr>\n",
       "      <th>1</th>\n",
       "      <td>6594</td>\n",
       "      <td>66</td>\n",
       "      <td>2022-01-01 00:01:00</td>\n",
       "      <td>view</td>\n",
       "      <td>2022-01-01</td>\n",
       "    </tr>\n",
       "    <tr>\n",
       "      <th>0</th>\n",
       "      <td>6594</td>\n",
       "      <td>66</td>\n",
       "      <td>2022-01-01 00:01:05</td>\n",
       "      <td>add to cart</td>\n",
       "      <td>2022-01-01</td>\n",
       "    </tr>\n",
       "    <tr>\n",
       "      <th>0</th>\n",
       "      <td>6594</td>\n",
       "      <td>66</td>\n",
       "      <td>2022-01-01 00:01:05</td>\n",
       "      <td>purchase</td>\n",
       "      <td>2022-01-01</td>\n",
       "    </tr>\n",
       "  </tbody>\n",
       "</table>\n",
       "</div>"
      ],
      "text/plain": [
       "   user_id  product_id                time       action        date\n",
       "0      773          83 2022-01-01 00:00:00         view  2022-01-01\n",
       "0      773          83 2022-01-01 00:00:05  add to cart  2022-01-01\n",
       "1     6594          66 2022-01-01 00:01:00         view  2022-01-01\n",
       "0     6594          66 2022-01-01 00:01:05  add to cart  2022-01-01\n",
       "0     6594          66 2022-01-01 00:01:05     purchase  2022-01-01"
      ]
     },
     "execution_count": 33,
     "metadata": {},
     "output_type": "execute_result"
    }
   ],
   "source": [
    "user_actions.head()"
   ]
  },
  {
   "cell_type": "code",
   "execution_count": null,
   "id": "4c45f935",
   "metadata": {},
   "outputs": [],
   "source": []
  },
  {
   "cell_type": "code",
   "execution_count": 40,
   "id": "c8bd5751",
   "metadata": {},
   "outputs": [],
   "source": [
    "q = \"\"\"SELECT date,\n",
    "              views,  \n",
    "              carts,\n",
    "              purchases,\n",
    "              100 * purchases / views as purchases_percantage\n",
    "        FROM(\n",
    "            SELECT date,\n",
    "                count(case when action = 'view'         then 1 else NULL end) as views,\n",
    "                count(case when action = 'add to cart' then 1 else NULL end) as carts,\n",
    "                count(case when action = 'purchase'   then 1 else NULL end) as purchases\n",
    "            FROM user_actions\n",
    "            GROUP BY date);\"\"\""
   ]
  },
  {
   "cell_type": "code",
   "execution_count": 41,
   "id": "fa1bd473",
   "metadata": {},
   "outputs": [
    {
     "data": {
      "text/html": [
       "<div>\n",
       "<style scoped>\n",
       "    .dataframe tbody tr th:only-of-type {\n",
       "        vertical-align: middle;\n",
       "    }\n",
       "\n",
       "    .dataframe tbody tr th {\n",
       "        vertical-align: top;\n",
       "    }\n",
       "\n",
       "    .dataframe thead th {\n",
       "        text-align: right;\n",
       "    }\n",
       "</style>\n",
       "<table border=\"1\" class=\"dataframe\">\n",
       "  <thead>\n",
       "    <tr style=\"text-align: right;\">\n",
       "      <th></th>\n",
       "      <th>date</th>\n",
       "      <th>views</th>\n",
       "      <th>carts</th>\n",
       "      <th>purchases</th>\n",
       "      <th>purchases_percantage</th>\n",
       "    </tr>\n",
       "  </thead>\n",
       "  <tbody>\n",
       "    <tr>\n",
       "      <th>0</th>\n",
       "      <td>2022-01-01</td>\n",
       "      <td>1440</td>\n",
       "      <td>283</td>\n",
       "      <td>109</td>\n",
       "      <td>7</td>\n",
       "    </tr>\n",
       "    <tr>\n",
       "      <th>1</th>\n",
       "      <td>2022-01-02</td>\n",
       "      <td>1440</td>\n",
       "      <td>311</td>\n",
       "      <td>130</td>\n",
       "      <td>9</td>\n",
       "    </tr>\n",
       "    <tr>\n",
       "      <th>2</th>\n",
       "      <td>2022-01-03</td>\n",
       "      <td>1440</td>\n",
       "      <td>277</td>\n",
       "      <td>108</td>\n",
       "      <td>7</td>\n",
       "    </tr>\n",
       "    <tr>\n",
       "      <th>3</th>\n",
       "      <td>2022-01-04</td>\n",
       "      <td>1440</td>\n",
       "      <td>303</td>\n",
       "      <td>116</td>\n",
       "      <td>8</td>\n",
       "    </tr>\n",
       "    <tr>\n",
       "      <th>4</th>\n",
       "      <td>2022-01-05</td>\n",
       "      <td>1440</td>\n",
       "      <td>281</td>\n",
       "      <td>114</td>\n",
       "      <td>7</td>\n",
       "    </tr>\n",
       "    <tr>\n",
       "      <th>5</th>\n",
       "      <td>2022-01-06</td>\n",
       "      <td>1440</td>\n",
       "      <td>291</td>\n",
       "      <td>118</td>\n",
       "      <td>8</td>\n",
       "    </tr>\n",
       "    <tr>\n",
       "      <th>6</th>\n",
       "      <td>2022-01-07</td>\n",
       "      <td>1360</td>\n",
       "      <td>285</td>\n",
       "      <td>112</td>\n",
       "      <td>8</td>\n",
       "    </tr>\n",
       "  </tbody>\n",
       "</table>\n",
       "</div>"
      ],
      "text/plain": [
       "         date  views  carts  purchases  purchases_percantage\n",
       "0  2022-01-01   1440    283        109                     7\n",
       "1  2022-01-02   1440    311        130                     9\n",
       "2  2022-01-03   1440    277        108                     7\n",
       "3  2022-01-04   1440    303        116                     8\n",
       "4  2022-01-05   1440    281        114                     7\n",
       "5  2022-01-06   1440    291        118                     8\n",
       "6  2022-01-07   1360    285        112                     8"
      ]
     },
     "execution_count": 41,
     "metadata": {},
     "output_type": "execute_result"
    }
   ],
   "source": [
    "sqldf(q)"
   ]
  },
  {
   "cell_type": "code",
   "execution_count": null,
   "id": "c24ce0e6",
   "metadata": {},
   "outputs": [],
   "source": []
  },
  {
   "cell_type": "code",
   "execution_count": null,
   "id": "9d2bb9a8",
   "metadata": {},
   "outputs": [],
   "source": []
  }
 ],
 "metadata": {
  "kernelspec": {
   "display_name": "Python 3 (ipykernel)",
   "language": "python",
   "name": "python3"
  },
  "language_info": {
   "codemirror_mode": {
    "name": "ipython",
    "version": 3
   },
   "file_extension": ".py",
   "mimetype": "text/x-python",
   "name": "python",
   "nbconvert_exporter": "python",
   "pygments_lexer": "ipython3",
   "version": "3.10.2"
  }
 },
 "nbformat": 4,
 "nbformat_minor": 5
}
